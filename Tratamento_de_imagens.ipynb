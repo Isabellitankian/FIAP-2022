{
  "cells": [
    {
      "cell_type": "markdown",
      "metadata": {
        "id": "view-in-github",
        "colab_type": "text"
      },
      "source": [
        "<a href=\"https://colab.research.google.com/github/Isabellitankian/FIAP-2022/blob/main/Tratamento_de_imagens.ipynb\" target=\"_parent\"><img src=\"https://colab.research.google.com/assets/colab-badge.svg\" alt=\"Open In Colab\"/></a>"
      ]
    },
    {
      "cell_type": "markdown",
      "metadata": {
        "id": "EwmkD9bLjHQY"
      },
      "source": [
        "**Checkpoint - Classificação de Imagens com CNNs**  ☁\n",
        "\n",
        "**Isabellí Andrade** - RM: 96078 ⚛\n",
        "\n",
        "**Caio Santos** - RM: 93250\n"
      ]
    },
    {
      "cell_type": "markdown",
      "metadata": {
        "id": "8p9Vk37qjcxR"
      },
      "source": [
        "Começar importando os cavaleiros do apocalipse: 🐴"
      ]
    },
    {
      "cell_type": "code",
      "execution_count": null,
      "metadata": {
        "id": "tPPFyFPsjCd8"
      },
      "outputs": [],
      "source": [
        "import matplotlib as plt\n",
        "import pandas as pd\n",
        "import numpy as np\n",
        "import seaborn as sns \n",
        "import tensorflow as tf \n",
        "import keras \n",
        "from keras.utils.np_utils import to_categorical\n",
        "from tensorflow.keras.utils import to_categorical\n",
        "from tensorflow.keras import Sequential, layers\n",
        "from tensorflow.keras.callbacks import EarlyStopping\n",
        "from tensorflow.keras.layers.experimental.preprocessing import Rescaling\n",
        "from sklearn.metrics import confusion_matrix\n",
        "from glob import glob\n",
        "import random\n",
        "from sklearn.model_selection import train_test_split"
      ]
    },
    {
      "cell_type": "code",
      "execution_count": null,
      "metadata": {
        "id": "JLBQjNdoYs8A"
      },
      "outputs": [],
      "source": [
        "!pip install kaggle"
      ]
    },
    {
      "cell_type": "markdown",
      "metadata": {
        "id": "j6BoA2mbogcZ"
      },
      "source": [
        "Importando os dados:"
      ]
    },
    {
      "cell_type": "code",
      "execution_count": null,
      "metadata": {
        "colab": {
          "base_uri": "https://localhost:8080/",
          "height": 39
        },
        "id": "HHjjbtT3kVjK",
        "outputId": "ef87def4-3ece-4e14-8b0c-2186cd843d31"
      },
      "outputs": [
        {
          "output_type": "display_data",
          "data": {
            "text/plain": [
              "<IPython.core.display.HTML object>"
            ],
            "text/html": [
              "\n",
              "     <input type=\"file\" id=\"files-bfedf1d9-2a45-420c-8222-147586c9ce1e\" name=\"files[]\" multiple disabled\n",
              "        style=\"border:none\" />\n",
              "     <output id=\"result-bfedf1d9-2a45-420c-8222-147586c9ce1e\">\n",
              "      Upload widget is only available when the cell has been executed in the\n",
              "      current browser session. Please rerun this cell to enable.\n",
              "      </output>\n",
              "      <script>// Copyright 2017 Google LLC\n",
              "//\n",
              "// Licensed under the Apache License, Version 2.0 (the \"License\");\n",
              "// you may not use this file except in compliance with the License.\n",
              "// You may obtain a copy of the License at\n",
              "//\n",
              "//      http://www.apache.org/licenses/LICENSE-2.0\n",
              "//\n",
              "// Unless required by applicable law or agreed to in writing, software\n",
              "// distributed under the License is distributed on an \"AS IS\" BASIS,\n",
              "// WITHOUT WARRANTIES OR CONDITIONS OF ANY KIND, either express or implied.\n",
              "// See the License for the specific language governing permissions and\n",
              "// limitations under the License.\n",
              "\n",
              "/**\n",
              " * @fileoverview Helpers for google.colab Python module.\n",
              " */\n",
              "(function(scope) {\n",
              "function span(text, styleAttributes = {}) {\n",
              "  const element = document.createElement('span');\n",
              "  element.textContent = text;\n",
              "  for (const key of Object.keys(styleAttributes)) {\n",
              "    element.style[key] = styleAttributes[key];\n",
              "  }\n",
              "  return element;\n",
              "}\n",
              "\n",
              "// Max number of bytes which will be uploaded at a time.\n",
              "const MAX_PAYLOAD_SIZE = 100 * 1024;\n",
              "\n",
              "function _uploadFiles(inputId, outputId) {\n",
              "  const steps = uploadFilesStep(inputId, outputId);\n",
              "  const outputElement = document.getElementById(outputId);\n",
              "  // Cache steps on the outputElement to make it available for the next call\n",
              "  // to uploadFilesContinue from Python.\n",
              "  outputElement.steps = steps;\n",
              "\n",
              "  return _uploadFilesContinue(outputId);\n",
              "}\n",
              "\n",
              "// This is roughly an async generator (not supported in the browser yet),\n",
              "// where there are multiple asynchronous steps and the Python side is going\n",
              "// to poll for completion of each step.\n",
              "// This uses a Promise to block the python side on completion of each step,\n",
              "// then passes the result of the previous step as the input to the next step.\n",
              "function _uploadFilesContinue(outputId) {\n",
              "  const outputElement = document.getElementById(outputId);\n",
              "  const steps = outputElement.steps;\n",
              "\n",
              "  const next = steps.next(outputElement.lastPromiseValue);\n",
              "  return Promise.resolve(next.value.promise).then((value) => {\n",
              "    // Cache the last promise value to make it available to the next\n",
              "    // step of the generator.\n",
              "    outputElement.lastPromiseValue = value;\n",
              "    return next.value.response;\n",
              "  });\n",
              "}\n",
              "\n",
              "/**\n",
              " * Generator function which is called between each async step of the upload\n",
              " * process.\n",
              " * @param {string} inputId Element ID of the input file picker element.\n",
              " * @param {string} outputId Element ID of the output display.\n",
              " * @return {!Iterable<!Object>} Iterable of next steps.\n",
              " */\n",
              "function* uploadFilesStep(inputId, outputId) {\n",
              "  const inputElement = document.getElementById(inputId);\n",
              "  inputElement.disabled = false;\n",
              "\n",
              "  const outputElement = document.getElementById(outputId);\n",
              "  outputElement.innerHTML = '';\n",
              "\n",
              "  const pickedPromise = new Promise((resolve) => {\n",
              "    inputElement.addEventListener('change', (e) => {\n",
              "      resolve(e.target.files);\n",
              "    });\n",
              "  });\n",
              "\n",
              "  const cancel = document.createElement('button');\n",
              "  inputElement.parentElement.appendChild(cancel);\n",
              "  cancel.textContent = 'Cancel upload';\n",
              "  const cancelPromise = new Promise((resolve) => {\n",
              "    cancel.onclick = () => {\n",
              "      resolve(null);\n",
              "    };\n",
              "  });\n",
              "\n",
              "  // Wait for the user to pick the files.\n",
              "  const files = yield {\n",
              "    promise: Promise.race([pickedPromise, cancelPromise]),\n",
              "    response: {\n",
              "      action: 'starting',\n",
              "    }\n",
              "  };\n",
              "\n",
              "  cancel.remove();\n",
              "\n",
              "  // Disable the input element since further picks are not allowed.\n",
              "  inputElement.disabled = true;\n",
              "\n",
              "  if (!files) {\n",
              "    return {\n",
              "      response: {\n",
              "        action: 'complete',\n",
              "      }\n",
              "    };\n",
              "  }\n",
              "\n",
              "  for (const file of files) {\n",
              "    const li = document.createElement('li');\n",
              "    li.append(span(file.name, {fontWeight: 'bold'}));\n",
              "    li.append(span(\n",
              "        `(${file.type || 'n/a'}) - ${file.size} bytes, ` +\n",
              "        `last modified: ${\n",
              "            file.lastModifiedDate ? file.lastModifiedDate.toLocaleDateString() :\n",
              "                                    'n/a'} - `));\n",
              "    const percent = span('0% done');\n",
              "    li.appendChild(percent);\n",
              "\n",
              "    outputElement.appendChild(li);\n",
              "\n",
              "    const fileDataPromise = new Promise((resolve) => {\n",
              "      const reader = new FileReader();\n",
              "      reader.onload = (e) => {\n",
              "        resolve(e.target.result);\n",
              "      };\n",
              "      reader.readAsArrayBuffer(file);\n",
              "    });\n",
              "    // Wait for the data to be ready.\n",
              "    let fileData = yield {\n",
              "      promise: fileDataPromise,\n",
              "      response: {\n",
              "        action: 'continue',\n",
              "      }\n",
              "    };\n",
              "\n",
              "    // Use a chunked sending to avoid message size limits. See b/62115660.\n",
              "    let position = 0;\n",
              "    do {\n",
              "      const length = Math.min(fileData.byteLength - position, MAX_PAYLOAD_SIZE);\n",
              "      const chunk = new Uint8Array(fileData, position, length);\n",
              "      position += length;\n",
              "\n",
              "      const base64 = btoa(String.fromCharCode.apply(null, chunk));\n",
              "      yield {\n",
              "        response: {\n",
              "          action: 'append',\n",
              "          file: file.name,\n",
              "          data: base64,\n",
              "        },\n",
              "      };\n",
              "\n",
              "      let percentDone = fileData.byteLength === 0 ?\n",
              "          100 :\n",
              "          Math.round((position / fileData.byteLength) * 100);\n",
              "      percent.textContent = `${percentDone}% done`;\n",
              "\n",
              "    } while (position < fileData.byteLength);\n",
              "  }\n",
              "\n",
              "  // All done.\n",
              "  yield {\n",
              "    response: {\n",
              "      action: 'complete',\n",
              "    }\n",
              "  };\n",
              "}\n",
              "\n",
              "scope.google = scope.google || {};\n",
              "scope.google.colab = scope.google.colab || {};\n",
              "scope.google.colab._files = {\n",
              "  _uploadFiles,\n",
              "  _uploadFilesContinue,\n",
              "};\n",
              "})(self);\n",
              "</script> "
            ]
          },
          "metadata": {}
        }
      ],
      "source": [
        "from google.colab import files\n",
        "\n",
        "uploaded = files.upload()\n",
        "\n",
        "for fn in uploaded.keys():\n",
        "  print('User uploaded file \"{name}\" with length {length} bytes'.format(\n",
        "      name=fn, length=len(uploaded[fn])))\n",
        "  \n",
        "# Then move kaggle.json into the folder where the API expects to find it.\n",
        "!mkdir -p ~/.kaggle/ && mv kaggle.json ~/.kaggle/ && chmod 600 ~/.kaggle/kaggle.json"
      ]
    },
    {
      "cell_type": "markdown",
      "metadata": {
        "id": "YeJP5nQ6oijy"
      },
      "source": [
        "Baixando o dataset:"
      ]
    },
    {
      "cell_type": "code",
      "execution_count": null,
      "metadata": {
        "id": "OFWuCfQvYrC3"
      },
      "outputs": [],
      "source": [
        "!kaggle datasets download -d paultimothymooney/breast-histopathology-images"
      ]
    },
    {
      "cell_type": "markdown",
      "metadata": {
        "id": "rWOqYghP2spC"
      },
      "source": [
        "Crie uma pasta data e descompacte o dataset nela."
      ]
    },
    {
      "cell_type": "code",
      "execution_count": null,
      "metadata": {
        "id": "dDxhmXEC2rRC"
      },
      "outputs": [],
      "source": [
        "!mkdir data\n",
        "!unzip breast-histopathology-images.zip -d data "
      ]
    },
    {
      "cell_type": "markdown",
      "metadata": {
        "id": "Xu3sQvhAp5JK"
      },
      "source": [
        "## Preparando os dados para uso\n",
        "\n",
        "Descubra os nomes das imagens da classe 0 (negativa, não câncer) e da classe 1 (positiva, câncer). "
      ]
    },
    {
      "cell_type": "code",
      "execution_count": null,
      "metadata": {
        "id": "0sTT3DzTp61m"
      },
      "outputs": [],
      "source": [
        "imagePatches = glob(\"/content/data/IDC_regular_ps50_idx5/**/*.png\", recursive=True)\n",
        "\n",
        "class0 = []\n",
        "class1 = []\n",
        "\n",
        "for filename in imagePatches:\n",
        "  if filename.endswith(\"class0.png\"):\n",
        "    class0.append(filename)\n",
        "  else:\n",
        "    class1.append(filename)"
      ]
    },
    {
      "cell_type": "markdown",
      "metadata": {
        "id": "-zCgpub_p_tH"
      },
      "source": [
        "Diminua o tamanho do dataset, pois não queremos demorar demais no treinamento."
      ]
    },
    {
      "cell_type": "code",
      "execution_count": null,
      "metadata": {
        "colab": {
          "base_uri": "https://localhost:8080/"
        },
        "id": "7dAmaCVHp_Xi",
        "outputId": "be45f8a4-caf8-4a52-bed7-ce6c4a691014"
      },
      "outputs": [
        {
          "output_type": "stream",
          "name": "stdout",
          "text": [
            "Existem 198738 exemplos negativos e 78786 exemplos positivos.\n",
            "Vamos usar apenas uma amostragem igualitária de cada classe!\n",
            "Então nosso dataset final deve ter 78786 exemplos de cada classe.\n",
            "Dataset final: \n",
            "  - N classe negativa: 78786\n",
            "  - N classe positiva: 78786\n"
          ]
        }
      ],
      "source": [
        "nClass0 = len(class0)\n",
        "nClass1 = len(class1)\n",
        "\n",
        "print(f\"Existem {nClass0} exemplos negativos e {nClass1} exemplos positivos.\")\n",
        "print(f\"Vamos usar apenas uma amostragem igualitária de cada classe!\")\n",
        "print(f\"Então nosso dataset final deve ter {nClass1} exemplos de cada classe.\")\n",
        "\n",
        "sampled_class0 = random.sample(class0, nClass1)\n",
        "sampled_class1 = random.sample(class1, nClass1)\n",
        "\n",
        "#sampled_class0 = random.sample(class0, 10000)\n",
        "#sampled_class1 = random.sample(class1, 10000)\n",
        "\n",
        "print(f\"Dataset final: \")\n",
        "print(f\"  - N classe negativa: {len(sampled_class0)}\")\n",
        "print(f\"  - N classe positiva: {len(sampled_class1)}\")"
      ]
    },
    {
      "cell_type": "markdown",
      "metadata": {
        "id": "i5UFdVdfqR9g"
      },
      "source": [
        "Cria um array de tuplas para cada classe, sendo que a tupla está no formato (imagem, label), sendo:\n",
        "\n",
        "- imagem: a imagem no formato de matriz de pixels\n",
        "- label: int indicando o label (0 ou 1)"
      ]
    },
    {
      "cell_type": "code",
      "execution_count": null,
      "metadata": {
        "id": "wNkco2MLqUa8"
      },
      "outputs": [],
      "source": [
        "from matplotlib.image import imread\n",
        "import cv2\n",
        "\n",
        "def get_image_arrays(data, label):\n",
        "  img_arrays = []\n",
        "  for i in data:\n",
        "    if i.endswith(\".png\"):\n",
        "      img = cv2.imread(i, cv2.IMREAD_COLOR)\n",
        "      img_sized = cv2.resize(img, (50, 50), interpolation=cv2.INTER_LINEAR)\n",
        "      img_arrays.append([img_sized, label])\n",
        "  return img_arrays \n",
        "\n",
        "class0_array = get_image_arrays(sampled_class0, 0)\n",
        "class1_array = get_image_arrays(sampled_class1, 1)"
      ]
    },
    {
      "cell_type": "markdown",
      "metadata": {
        "id": "8tzWnoeSqX1O"
      },
      "source": [
        "Junte os dados numa coisa só, e misture, mesclando as imagens para trazer aleatoriedade na seleção. (Eu particulamente tenho medo disso, mas se você ta instruindo, eu confio) kkk "
      ]
    },
    {
      "cell_type": "code",
      "execution_count": null,
      "metadata": {
        "colab": {
          "base_uri": "https://localhost:8080/"
        },
        "id": "nvKhVUy5qarp",
        "outputId": "b9f3dfe4-a2b2-4023-97b6-e69a3a24e546"
      },
      "outputs": [
        {
          "output_type": "stream",
          "name": "stderr",
          "text": [
            "<string>:6: VisibleDeprecationWarning: Creating an ndarray from ragged nested sequences (which is a list-or-tuple of lists-or-tuples-or ndarrays with different lengths or shapes) is deprecated. If you meant to do this, you must specify 'dtype=object' when creating the ndarray.\n"
          ]
        }
      ],
      "source": [
        "all_data = np.concatenate((class0_array, class1_array))\n",
        "random.seed(42)\n",
        "random.shuffle(all_data)"
      ]
    },
    {
      "cell_type": "markdown",
      "metadata": {
        "id": "IisCgsH5qtHL"
      },
      "source": [
        "Separe os dados (pixels), dos labels (ints). Devemos terminar com 157572 imagens, escaladas em 50x50 pixels, sendo que cada imagem é expressa em 3 canais (RBG)."
      ]
    },
    {
      "cell_type": "code",
      "execution_count": null,
      "metadata": {
        "colab": {
          "base_uri": "https://localhost:8080/"
        },
        "id": "Qr5X7voyquNB",
        "outputId": "811093b2-57cf-4e6b-f1b5-cd83901edac5"
      },
      "outputs": [
        {
          "output_type": "execute_result",
          "data": {
            "text/plain": [
              "(157572, 50, 50, 3)"
            ]
          },
          "metadata": {},
          "execution_count": 185
        }
      ],
      "source": [
        "X = []\n",
        "y = []\n",
        "for image, label in all_data:\n",
        "  X.append(image)\n",
        "  y.append(label)\n",
        "\n",
        "X = np.array(X).reshape(-1, 50, 50, 3)\n",
        "X.shape"
      ]
    },
    {
      "cell_type": "markdown",
      "metadata": {
        "id": "nnxgGUMIq5bi"
      },
      "source": [
        "Dividindo entre treino e teste: "
      ]
    },
    {
      "cell_type": "code",
      "execution_count": null,
      "metadata": {
        "colab": {
          "base_uri": "https://localhost:8080/"
        },
        "id": "gje1aXBwrEUe",
        "outputId": "88729ef6-bd58-479b-a923-d66efd6817ce"
      },
      "outputs": [
        {
          "output_type": "stream",
          "name": "stdout",
          "text": [
            "(118179, 50, 50, 3) (39393, 50, 50, 3) (118179, 2) (39393, 2)\n"
          ]
        }
      ],
      "source": [
        "X_train, X_test, y_train, y_test = train_test_split(X, y, test_size=0.25, random_state=42)\n",
        "\n",
        "y_train = to_categorical(y_train)\n",
        "y_test = to_categorical(y_test)\n",
        "\n",
        "print(X_train.shape, X_test.shape, y_train.shape, y_test.shape)"
      ]
    },
    {
      "cell_type": "markdown",
      "metadata": {
        "id": "HCbGP5dPuy-E"
      },
      "source": [
        "Define a arquitetura da CNN -> camada de extração de features: "
      ]
    },
    {
      "cell_type": "markdown",
      "metadata": {
        "id": "ux7GZsXku66W"
      },
      "source": [
        "Define a arquitetura da CNN -> camada de decisão (classificação):"
      ]
    },
    {
      "cell_type": "code",
      "execution_count": null,
      "metadata": {
        "id": "r_NJGp7Vu-OY"
      },
      "outputs": [],
      "source": [
        "hand_model = Sequential()\n",
        "hand_model.add( Rescaling(1./255, input_shape=(50, 50, 3)) )\n",
        "\n",
        "hand_model.add( layers.Conv2D(16, kernel_size=10, activation=\"relu\") )\n",
        "hand_model.add( layers.MaxPooling2D(3) ) \n",
        "\n",
        "hand_model.add( layers.Conv2D(32, kernel_size=8, activation=\"relu\") )\n",
        "hand_model.add( layers.MaxPooling2D(2) ) \n",
        "\n",
        "hand_model.add( layers.Conv2D(32, kernel_size=2, activation=\"relu\") )\n",
        "hand_model.add( layers.MaxPooling2D(2) ) \n",
        "hand_model.add( layers.Flatten() )\n",
        "hand_model.add( layers.Dense(50, activation=\"relu\") )\n",
        "hand_model.add( layers.Dense(20, activation=\"relu\") )\n",
        "hand_model.add( layers.Dense(2, activation=\"softmax\") )\n",
        "\n",
        "#Compila o modelo:\n",
        "\n",
        "hand_model.compile(\n",
        "    optimizer=\"adam\",\n",
        "    loss=\"categorical_crossentropy\",\n",
        "    metrics=[\"accuracy\"]\n",
        ")\n",
        "\n",
        "#Define a estratégia de Early Stopping:\n",
        "\n",
        "es = EarlyStopping(monitor=\"val_accuracy\", \n",
        "                   patience=5,\n",
        "                   mode=\"max\",    #Se der erro comentar essa linha completa\n",
        "                   restore_best_weights=True)\n",
        "\n",
        "# Treinamento do modelo \n",
        "with tf.device(\"/device:GPU:0\"):\n",
        "  hand_model.fit(X_train, y_train,\n",
        "                 epochs=50,\n",
        "                 validation_split=0.2,\n",
        "                 batch_size=32,\n",
        "                 callbacks=[es])"
      ]
    },
    {
      "cell_type": "markdown",
      "metadata": {
        "id": "6qnY4mZsvrHi"
      },
      "source": [
        "Avaliação do modelo:"
      ]
    },
    {
      "cell_type": "code",
      "execution_count": null,
      "metadata": {
        "colab": {
          "base_uri": "https://localhost:8080/"
        },
        "id": "BrxKcmP2vo7D",
        "outputId": "b9f9d72e-82f7-4716-8c9f-671c7734894c"
      },
      "outputs": [
        {
          "output_type": "stream",
          "name": "stdout",
          "text": [
            "3694/3694 [==============================] - 12s 3ms/step - loss: 0.2563 - accuracy: 0.8992\n",
            "A loss do modelo é 0.26 e a ACC é: 0.90\n"
          ]
        }
      ],
      "source": [
        "loss, acc = hand_model.evaluate(X_train, y_train)\n",
        "\n",
        "print(f\"A loss do modelo é {loss:.2f} e a ACC é: {acc:.2f}\")"
      ]
    },
    {
      "cell_type": "markdown",
      "metadata": {
        "id": "QHCLuwLb3Jhn"
      },
      "source": [
        "Plotando uma matriz de confusão com o resultado:"
      ]
    },
    {
      "cell_type": "code",
      "execution_count": null,
      "metadata": {
        "id": "VDL6Hzdnvsc3"
      },
      "outputs": [],
      "source": [
        "def plot_confusion_matrix(X_train, y_train):\n",
        "  labels=list(map(np.argmax,y_train))\n",
        "  labels_pred = list(map(np.argmax, y_train))\n",
        "\n",
        "  cf_matrix = confusion_matrix(labels, labels_pred)\n",
        "  sns.heatmap(cf_matrix, annot=True)"
      ]
    },
    {
      "cell_type": "code",
      "execution_count": null,
      "metadata": {
        "colab": {
          "base_uri": "https://localhost:8080/",
          "height": 265
        },
        "id": "mOlZDhb_v7IE",
        "outputId": "8826d301-fbbd-482f-8edc-548013c51826"
      },
      "outputs": [
        {
          "output_type": "display_data",
          "data": {
            "text/plain": [
              "<Figure size 432x288 with 2 Axes>"
            ],
            "image/png": "[encoded data removed]"
          },
          "metadata": {
            "needs_background": "light"
          }
        }
      ],
      "source": [
        "predicoes = hand_model.predict(X_train)\n",
        "plot_confusion_matrix(y_train, predicoes)"
      ]
    },
    {
      "cell_type": "markdown",
      "metadata": {
        "id": "huxvLmYxcl_o"
      },
      "source": [
        "## Trabalhando com Transfer Learning do modelo VGG16"
      ]
    },
    {
      "cell_type": "code",
      "execution_count": null,
      "metadata": {
        "id": "o5QTN2EVcoi1"
      },
      "outputs": [],
      "source": [
        "# Imports\n",
        "from tensorflow.keras.applications.vgg16 import VGG16 # Arquitetura padrão VGG16\n",
        "from tensorflow.keras.applications.vgg16 import preprocess_input # Função pra processar as imagens sobre a visão da arquitetura VGG16\n",
        "\n",
        "# Preprocessa os dados de treinamento e teste\n",
        "X_train = preprocess_input(X_train)\n",
        "X_test = preprocess_input(X_test)\n",
        "\n",
        "# Importa o modelo de base, que será a VGG16 ***sem*** a camada de decisão\n",
        "base_model = VGG16(weights=\"imagenet\", include_top=False, input_shape=X_train[0].shape)\n",
        "\n",
        "# Usar os mesmos pesos da rede treinada (sem fine tunning)\n",
        "base_model.trainable = False\n",
        "#base_model.trainable = True\n",
        "\n",
        "# Define as camadas treinaveis (com fine tunning)\n",
        "#print(\"Número de camadas na base modelo: \", len(base_model.layers)) # Printa o número de camadas\n",
        "\n",
        "#fine_tune_at = 100\n",
        "#for layer in base_model.layers[:fine_tune_at]:\n",
        "# layer.trainable = False # Até a camada 100, não é treinavel"
      ]
    },
    {
      "cell_type": "code",
      "execution_count": null,
      "metadata": {
        "id": "jGRCWI_KctLg"
      },
      "outputs": [],
      "source": [
        "# Observa a estrutura do modelo importado\n",
        "base_model.summary()"
      ]
    },
    {
      "cell_type": "markdown",
      "metadata": {
        "id": "3dV1OdiQcwR-"
      },
      "source": [
        "## Adicionar a camada de decisão (classificação)"
      ]
    },
    {
      "cell_type": "code",
      "execution_count": null,
      "metadata": {
        "id": "HgK7mHqVcw5l"
      },
      "outputs": [],
      "source": [
        "from tensorflow.keras import layers, models\n",
        "\n",
        "# Define as camadas\n",
        "flatten_layer = layers.Flatten()\n",
        "dense_layer_1 = layers.Dense(50, activation=\"relu\")\n",
        "dense_layer_2 = layers.Dense(20, activation=\"relu\")\n",
        "prediction_layer = layers.Dense(2, activation=\"softmax\")\n",
        "\n",
        "# Estabelece o pipeline completo\n",
        "model = models.Sequential([\n",
        "    base_model,       # A base CNN da VGG16\n",
        "    flatten_layer,    # Achata as features que saem da VGG16 (base_model) \n",
        "    dense_layer_1,    # Primeira camada oculta fully connected\n",
        "    dense_layer_2,    # Segunda camada oculta fully connected\n",
        "    prediction_layer  # Camada de saída, com 5 neurônios para classificação\n",
        "])"
      ]
    },
    {
      "cell_type": "code",
      "execution_count": null,
      "metadata": {
        "id": "umgJteXKc0tN"
      },
      "outputs": [],
      "source": [
        "model.summary()"
      ]
    },
    {
      "cell_type": "markdown",
      "metadata": {
        "id": "_Y3R-HDnc2NG"
      },
      "source": [
        "## Treinamento do modelo"
      ]
    },
    {
      "cell_type": "code",
      "execution_count": null,
      "metadata": {
        "id": "qs9uInlec3cM"
      },
      "outputs": [],
      "source": [
        "from tensorflow.keras.callbacks import EarlyStopping\n",
        "\n",
        "# Compila o novo modelo\n",
        "model.compile(\n",
        "    optimizer=\"adam\",\n",
        "    loss=\"categorical_crossentropy\",\n",
        "    metrics=[\"accuracy\"]\n",
        ")\n",
        "\n",
        "# Define a estratégia de Early Stopping\n",
        "es = EarlyStopping(monitor=\"val_accuracy\", mode=\"max\", patience=5, restore_best_weights=True)\n",
        "\n",
        "# Treina o modelo\n",
        "model.fit(X_train, y_train, epochs=50, validation_split=0.2, batch_size=32, callbacks=[es])"
      ]
    },
    {
      "cell_type": "code",
      "execution_count": null,
      "metadata": {
        "id": "t6dnje3bc4zZ",
        "colab": {
          "base_uri": "https://localhost:8080/"
        },
        "outputId": "b9aa1149-e62c-43b7-c8ea-101a974d3bc9"
      },
      "outputs": [
        {
          "output_type": "stream",
          "name": "stdout",
          "text": [
            "1232/1232 [==============================] - 13s 11ms/step - loss: 0.3271 - accuracy: 0.9026\n",
            "A loss do modelo é 0.33 e a ACC é: 0.90\n"
          ]
        }
      ],
      "source": [
        "# Avaliação do modelo\n",
        "loss, acc = model.evaluate(X_test, y_test)\n",
        "\n",
        "print(f\"A loss do modelo é {loss:.2f} e a ACC é: {acc:.2f}\")"
      ]
    },
    {
      "cell_type": "code",
      "execution_count": null,
      "metadata": {
        "id": "AGrPZZLjc6Dt",
        "colab": {
          "base_uri": "https://localhost:8080/",
          "height": 269
        },
        "outputId": "8353d2fc-ea93-4209-a4c7-dae60baaf2ea"
      },
      "outputs": [
        {
          "output_type": "display_data",
          "data": {
            "text/plain": [
              "<Figure size 432x288 with 2 Axes>"
            ],
            "image/png": "[encoded data removed]"
          },
          "metadata": {
            "needs_background": "light"
          }
        }
      ],
      "source": [
        "preds = model.predict(X_test)\n",
        "plot_confusion_matrix(y_test, preds)"
      ]
    },
    {
      "cell_type": "markdown",
      "source": [
        "## Considerações finais! ☝ Que rufem os tambores.... 🪗 (só encontrei o emoji da sanfona) kk\n",
        "\n"
      ],
      "metadata": {
        "id": "2XF6WJbOQv-S"
      }
    },
    {
      "cell_type": "markdown",
      "source": [
        "### A 1º proposta foi para criar uma rede convulacional do 0, que resultou em uma Acurácia de 0.90 e a Loss do modelo foi de 0.26. (UAU)\n",
        "\n",
        "### E a 2º que foi utilizar a Transfer Learning do modelo VGG16, que resultou em uma Acurácia de 0.90 e a Loss do modelo foi de 0.33. (UAU again).\n",
        "\n",
        "### Ou seja tanto a rede treinada do 0, quanto a transfer learning foram eficazes para a análise das imagens. ✨"
      ],
      "metadata": {
        "id": "D1u0zgUDROsm"
      }
    }
  ],
  "metadata": {
    "accelerator": "GPU",
    "colab": {
      "collapsed_sections": [],
      "provenance": [],
      "machine_shape": "hm",
      "include_colab_link": true
    },
    "gpuClass": "standard",
    "kernelspec": {
      "display_name": "Python 3",
      "name": "python3"
    },
    "language_info": {
      "name": "python"
    }
  },
  "nbformat": 4,
  "nbformat_minor": 0
}