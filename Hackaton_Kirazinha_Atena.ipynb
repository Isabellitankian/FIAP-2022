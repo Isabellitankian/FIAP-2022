{
  "nbformat": 4,
  "nbformat_minor": 0,
  "metadata": {
    "colab": {
      "name": "Kirazinha_Atena",
      "provenance": [],
      "collapsed_sections": [],
      "authorship_tag": "ABX9TyPJO5ok3jT2z6KteAa+fhSL",
      "include_colab_link": true
    },
    "kernelspec": {
      "name": "python3",
      "display_name": "Python 3"
    },
    "language_info": {
      "name": "python"
    }
  },
  "cells": [
    {
      "cell_type": "markdown",
      "metadata": {
        "id": "view-in-github",
        "colab_type": "text"
      },
      "source": [
        "<a href=\"https://colab.research.google.com/github/Isabellitankian/FIAP-2022/blob/main/Hackaton_Kirazinha_Atena.ipynb\" target=\"_parent\"><img src=\"https://colab.research.google.com/assets/colab-badge.svg\" alt=\"Open In Colab\"/></a>"
      ]
    },
    {
      "cell_type": "markdown",
      "source": [
        "Grupo: Atenas! Deusa da sabedoria. ❤"
      ],
      "metadata": {
        "id": "Tj50UPLcu9nE"
      }
    },
    {
      "cell_type": "code",
      "execution_count": 19,
      "metadata": {
        "id": "LjNux72jZRZv"
      },
      "outputs": [],
      "source": [
        "#Instalando a biblioteca responsavél pela integração com a API do Telegram.\n",
        "pip install pytelegrambotapi "
      ]
    },
    {
      "cell_type": "code",
      "source": [
        "#Importando a biblioteca \n",
        "import telebot"
      ],
      "metadata": {
        "id": "cpaQM-zcZVuG"
      },
      "execution_count": 20,
      "outputs": []
    },
    {
      "cell_type": "code",
      "source": [
        "chaveApi = \"5466114781:AAH5tdKix1R1-p_RDG2ZcabFLtfSs0WPPTo\"  #chave_única_adquirida_no_app_telegram_free\n",
        "\n",
        "bot = telebot.TeleBot(chaveApi)\n",
        " \n",
        "\n",
        "@bot.message_handler(commands=[\"opcao1\"])\n",
        "def opcao1(mensagem):\n",
        "  bot.send_message(mensagem.chat.id,\"Ahhh que legal! *-* Vamos juntas! Você pode acessar seu calendário menstrual clicando nesse link aqui: \\n https://www.kira.intimus.com.br/\")\n",
        "  bot.reply_to(mensagem,\"É um prazer ser sua melhor amiga! Estarei sempre aqui. E não se esqueça que qualquer dúvida, pode me chamar aqui!\")\n",
        "  bot.reply_to(mensagem,\"n\\ Mas se essa opção ainda não foi a solução, não desanime! Apenas selecione a opção desejada novamente e iremos continuar (hihi).\")\n",
        "\n",
        "@bot.message_handler(commands=[\"opcao2\"])\n",
        "def opcao2(mensagem):\n",
        "  bot.send_message(mensagem.chat.id,\"Claro! Você pode acessar a plataforma através desse link, lindinho ele é? Rs \\n https://www.kira.intimus.com.br/, será um prazer te acompanhar!:)\")\n",
        "  bot.reply_to(mensagem,\"É tão bom ter você aqui, fica quentinho! Estarei sempre aqui. E não se esqueça, qualquer dúvida, é só me chamar.\")\n",
        "  bot.reply_to(mensagem,\"Hum... e se eu ainda não consegui te ajudar, irei tentar mais uma vez! Selecione uma das opções que estava no ínicio da nossa conversa.\")\n",
        "\n",
        "\n",
        "@bot.message_handler(commands=[\"opcao3\"])\n",
        "def opcao3(mensagem):\n",
        "  bot.send_message(mensagem.chat.id,\"Uma mente que se expande ao conhecimento jamais voltará a seu estado inicial. Quem foi mesmo que disse isso? Hum... Ah, aqui está seu link mágico https://www.kira.intimus.com.br/articles, divulge sem moderação ok?\")\n",
        "  bot.reply_to(mensagem,\"Mais pontos para você! Vale lembrar que as interações comigo somam na plataforma, ok? E não se esqueça, qualquer dúvida, pode me chamar aqui!\")\n",
        "  bot.reply_to(mensagem,\"Ops, quem nunca errou um clique, não é mesmo? Me acontece todos os dias. kkk. Para te ajudar peço que selecione uma opção, ok?\")\n",
        "\n",
        "\n",
        "@bot.message_handler(commands=[\"opcao4\"])\n",
        "def opcao4(mensagem):\n",
        "  texto = \"\"\"\n",
        "  Tudo bem, estou aqui para você! E vamos resolver isso juntas! Ok? *-* \\n (Clique em uma opção: )\n",
        "  /cupons * Cupons de descontos *\n",
        "  /truques * Truques para cólicas *\n",
        "  /contato * Contato Médico * \"\"\"\n",
        "  bot.reply_to(mensagem,texto)\n",
        "\n",
        "@bot.message_handler(commands=[\"cupons\"])\n",
        "def cupons(mensagem):\n",
        "  bot.reply_to(mensagem,\"Eu estava olhando aqui na plataforma e você já tem alguns pontos (yessss!), eu fico mega feliz! Você pode consulta-los por aqui: kira.com/pontuaçãoficticia, e troca-los por produtos, frete grátis, e outras surpresinhas, vem conferir!!\")\n",
        "  bot.reply_to(mensagem,\"Eu fico mega feliz em ter te ajudado, amigas são para todas as horas!\\n Mas caso tenha ficado alguma outra dúvida é só selecionar o que deseja.\")\n",
        "\n",
        "\n",
        "\n",
        "@bot.message_handler(commands=[\"truques\"])\n",
        "def truques(mensagem):\n",
        "  bot.reply_to(mensagem,\"Existem alguns conhecimentos milenares que nós dizem que uma bolsa de gel morna, colocada na barriga alivia a dor... \\n Gostaria de saber mais sobre? Temos artigos cientificos para te auxiliar. Eu criei esse link só para você https://www.kira.intimus.com.br/articles\")\n",
        "  bot.reply_to(mensagem,\"Cada vez que a gente interage eu fico um pouquinho mais feliz! Se ainda precisar de mim basta clicar no que desejar e iremos fazer acontecer.\")\n",
        "\n",
        "\n",
        "@bot.message_handler(commands=[\"contato\"])\n",
        "def contato(mensagem):\n",
        "  bot.reply_to(mensagem,\"Ok, eu conferi aqui na minha agenda, e não achei o número do seu médico.\\n Irei te redirecionar para a plataforma ok? Lá temos os melhores ginecologistas à disposição.\")\n",
        "  bot.reply_to(mensagem,\"Trabalho concluído, espero que tenha um sorriso nesse rostinho de TPM (hihi). Se ainda precisar de mim é só selecionar uma das opções acima.\")\n",
        "\n",
        "\n",
        "def verificar(mensagem):\n",
        "  return True\n",
        "\n",
        "\n",
        "@bot.message_handler(func=verificar)\n",
        "def responder(mensagem):\n",
        "  bot.reply_to(mensagem, \"Olá! Eu sou à Kira, sua assistênte de saude feminina! Vamos escolher o que podemos fazer hoje juntas?\")\n",
        "  texto = \"\"\"Escolha uma opção para continuar \\n (Clique no item desejado, tudo bem?):\n",
        "  /opcao1 º Acesso ao caléndario menstrual º\n",
        "  /opcao2 º Acesso à plataforma Kira º\n",
        "  /opcao3 º Dúvidas sobre ciclo º\n",
        "  /opcao4 º Outro assunto º \"\"\" \n",
        "  bot.reply_to(mensagem, texto)\n",
        "\n",
        "bot.polling()\n",
        "\n",
        "\n"
      ],
      "metadata": {
        "id": "eE7Un4HBb5lh"
      },
      "execution_count": null,
      "outputs": []
    },
    {
      "cell_type": "markdown",
      "source": [
        "❤"
      ],
      "metadata": {
        "id": "9dwecQ0Efiiw"
      }
    }
  ]
}