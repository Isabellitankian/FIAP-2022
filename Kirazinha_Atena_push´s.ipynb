{
  "nbformat": 4,
  "nbformat_minor": 0,
  "metadata": {
    "colab": {
      "name": "Kirazinha_Atena_push´s",
      "provenance": [],
      "collapsed_sections": [],
      "authorship_tag": "ABX9TyMCdqhxyIKOIXIzxBIrvY36",
      "include_colab_link": true
    },
    "kernelspec": {
      "name": "python3",
      "display_name": "Python 3"
    },
    "language_info": {
      "name": "python"
    }
  },
  "cells": [
    {
      "cell_type": "markdown",
      "metadata": {
        "id": "view-in-github",
        "colab_type": "text"
      },
      "source": [
        "<a href=\"https://colab.research.google.com/github/Isabellitankian/FIAP-2022/blob/main/Kirazinha_Atena_push%C2%B4s.ipynb\" target=\"_parent\"><img src=\"https://colab.research.google.com/assets/colab-badge.svg\" alt=\"Open In Colab\"/></a>"
      ]
    },
    {
      "cell_type": "markdown",
      "source": [
        "Grupo: Atenas! Deusa da sabedoria. ❤"
      ],
      "metadata": {
        "id": "Tj50UPLcu9nE"
      }
    },
    {
      "cell_type": "code",
      "execution_count": null,
      "metadata": {
        "id": "LjNux72jZRZv"
      },
      "outputs": [],
      "source": [
        "#Instalando a biblioteca responsavél pela integração com a API do Telegram.\n",
        "pip install pytelegrambotapi "
      ]
    },
    {
      "cell_type": "code",
      "source": [
        "#Importando a biblioteca \n",
        "import telebot"
      ],
      "metadata": {
        "id": "cpaQM-zcZVuG"
      },
      "execution_count": null,
      "outputs": []
    },
    {
      "cell_type": "markdown",
      "source": [
        "Para o envio dos Push´s é necessário uma API com a plataforma Kira para integramos com o calendário menstrual. \n",
        "Mas as mensagens chegariam nesse formato, e via Kirazinha também! ❤"
      ],
      "metadata": {
        "id": "rteuGOCPc8Qb"
      }
    },
    {
      "cell_type": "code",
      "source": [
        "chaveApi = \"5466114781:AAH5tdKix1R1-p_RDG2ZcabFLtfSs0WPPTo\"  #chave_única_adquirida_no_app_telegram_free\n",
        "\n",
        "bot = telebot.TeleBot(chaveApi)\n",
        " \n",
        "\n",
        "def verificar(mensagem):\n",
        "  return True\n",
        "\n",
        "#push 4º semana \n",
        "\n",
        "@bot.message_handler(func=verificar)\n",
        "def responder(mensagem):\n",
        "  bot.reply_to(mensagem,\"Passando para saber como você está! E ai, tudo certo? Chegamos na 4º e última semana do mês! O que acha de vir conferir seu calendário menstrual quase todo completinho? \\n Ele fica tão lindo, que orgulho de você. *-*\")\n",
        "  texto = \"Só clicar nesse link e eu te levarei até lá: https://www.kira.intimus.com.br/ <3\"\n",
        "  bot.reply_to(mensagem, texto)\n",
        "\n",
        "#push 3º semana\n",
        "\n",
        "@bot.message_handler(func=verificar)\n",
        "def responder(mensagem):\n",
        "  bot.reply_to(mensagem,\" Chegamos na 3º semana do mês, e de acordo com o seu calendário você está ovulando. Não se esqueça do preservativo hein? Saúde em 1º lugar sempre. <3\")\n",
        "  texto = \"Caso queira se informar mais temos ótimos artigos médicos! Vem conferir: https://www.kira.intimus.com.br/articles! <3\"\n",
        "  bot.reply_to(mensagem, texto) \n",
        "\n",
        "#push 2º semana\n",
        "\n",
        "@bot.message_handler(func=verificar)\n",
        "def responder(mensagem):\n",
        "  bot.reply_to(mensagem,\"Olá, como você se sente hoje? Estamos na 2º semana do mês, e de acordo com o seu calendário menstrual você está naqueles dias pós-menstruação. Está tudo bem?\")\n",
        "  texto = \"Caso queira informações detalhadas sobre o seu ciclo, acesse: kira.intimus.com.br! <3\"\n",
        "  bot.reply_to(mensagem, texto)\n",
        "\n",
        "#push da 1º semana\n",
        "\n",
        "@bot.message_handler(func=verificar)\n",
        "def responder(mensagem):\n",
        "  bot.reply_to(mensagem,\"Olá você sabe que dia é hoje? Estamos na 1º semana do mês, e de acordo com o seu calendário sua menstruação está chegando! \\n O que você acha de já se preparar para esse novo ciclo? \\n Você pode consultar seus pontos e conseguir um desconto naquele absorvente queridinhos! Aqui está o link encantado kira.intimus.com.br *-* \")\n",
        "  texto = \"kira.intimus.com.br\"\n",
        "  bot.se(mensagem, texto)\n",
        "\n",
        "\n",
        "bot.polling()\n",
        "\n",
        "\n"
      ],
      "metadata": {
        "id": "eE7Un4HBb5lh"
      },
      "execution_count": null,
      "outputs": []
    },
    {
      "cell_type": "markdown",
      "source": [
        "❤"
      ],
      "metadata": {
        "id": "9dwecQ0Efiiw"
      }
    }
  ]
}