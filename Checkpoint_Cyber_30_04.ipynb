{
  "cells": [
    {
      "cell_type": "markdown",
      "metadata": {
        "id": "view-in-github",
        "colab_type": "text"
      },
      "source": [
        "<a href=\"https://colab.research.google.com/github/Isabellitankian/FIAP-2022/blob/main/Checkpoint_Cyber_30_04.ipynb\" target=\"_parent\"><img src=\"https://colab.research.google.com/assets/colab-badge.svg\" alt=\"Open In Colab\"/></a>"
      ]
    },
    {
      "cell_type": "code",
      "execution_count": null,
      "metadata": {
        "id": "wCseQhzL8DKF"
      },
      "outputs": [],
      "source": [
        "!pip install fuzzywuzzy[speedup]"
      ]
    },
    {
      "cell_type": "code",
      "execution_count": 2,
      "metadata": {
        "id": "3EuoDndE8E0d"
      },
      "outputs": [],
      "source": [
        "from fuzzywuzzy import process"
      ]
    },
    {
      "cell_type": "code",
      "execution_count": 3,
      "metadata": {
        "id": "lW8y-c1Y8Jn4"
      },
      "outputs": [],
      "source": [
        "import json\n",
        "import requests\n",
        "import re\n",
        "import pandas as pd"
      ]
    },
    {
      "cell_type": "code",
      "execution_count": null,
      "metadata": {
        "id": "_7KgRL3Q8LW7"
      },
      "outputs": [],
      "source": [
        "!pip install -q pyngrok"
      ]
    },
    {
      "cell_type": "code",
      "execution_count": null,
      "metadata": {
        "id": "Chmlt1Jz8M_1"
      },
      "outputs": [],
      "source": [
        "!pip install -q streamlit_ace"
      ]
    },
    {
      "cell_type": "code",
      "execution_count": 6,
      "metadata": {
        "id": "2cQAfm2S8O78"
      },
      "outputs": [],
      "source": [
        "!pip install -q streamlit"
      ]
    },
    {
      "cell_type": "code",
      "execution_count": 7,
      "metadata": {
        "id": "jgMF5gIs8UJf"
      },
      "outputs": [],
      "source": [
        "!streamlit run app.py &>/dev/null&"
      ]
    },
    {
      "cell_type": "code",
      "execution_count": 8,
      "metadata": {
        "id": "gMeYoSzm8Vrt"
      },
      "outputs": [],
      "source": [
        "from pyngrok import ngrok\n"
      ]
    },
    {
      "cell_type": "code",
      "execution_count": 9,
      "metadata": {
        "colab": {
          "base_uri": "https://localhost:8080/"
        },
        "id": "aGfMIuHE8bgR",
        "outputId": "e630e511-e0eb-4e19-fdff-79afc56d1767"
      },
      "outputs": [
        {
          "output_type": "stream",
          "name": "stdout",
          "text": [
            "Writing app.py\n"
          ]
        }
      ],
      "source": [
        "%%writefile app.py\n",
        "\n",
        "import streamlit as st\n",
        "import re\n",
        "import requests\n",
        "\n",
        "itp = requests.get('https://cspinheiro.github.io/interpol.json')\n",
        "interpol = itp.json()['interpol']\n",
        "\n",
        "pst = requests.get('https://isabellitankian.github.io/ita.json')\n",
        "passaporte = pst.json()['ita']\n",
        "\n",
        "def WarnWater(field): #Função para verificar a lista de nomes\n",
        "  for item in interpol:\n",
        "    for value in item.values():\n",
        "      if str(field) == str(value):\n",
        "        return True\n",
        "  return False\n",
        "\n",
        "def ColdWater(field): #Função para verificar a lista de passaporte\n",
        "  for item in passaporte:\n",
        "    for value in item.values():\n",
        "      if str(field) == str(value):\n",
        "        return True\n",
        "  return False\n",
        "\n",
        "def main():\n",
        "\n",
        "  html_temp = \"\"\"\n",
        "  <div style =\"background-color:black;padding:26px\"> \n",
        "    <h1 style =\"color:red;text-align:center;\"> Italy International Airport </h1> \n",
        "    </div> \n",
        "    \"\"\"\n",
        "  st.markdown(html_temp, unsafe_allow_html = True)\n",
        "  tx_passaporte = st.text_input('Digite seu passaporte')\n",
        "  tx_nome = st.text_input('digite o seu nome: ')\n",
        "\n",
        "  if st.button(\"Verificar\"):\n",
        "    inInterpol = WarnWater(tx_nome)\n",
        "    inPassaporte = ColdWater(re.sub(r'[a-zA-Z]', \"\", tx_passaporte))\n",
        "\n",
        "    if inInterpol or inPassaporte:\n",
        "      st.error('Você não pode entrar no país!')\n",
        "    else:\n",
        "      st.success('Ok, pode embarcar. Ótima viagem.')\n",
        "\n",
        "if __name__=='__main__': \n",
        "    main()  "
      ]
    },
    {
      "cell_type": "code",
      "execution_count": 10,
      "metadata": {
        "colab": {
          "base_uri": "https://localhost:8080/"
        },
        "id": "6HZRFM2o8dBk",
        "outputId": "5aa2533d-bc29-47ef-fc0c-a00e87986e1f"
      },
      "outputs": [
        {
          "output_type": "stream",
          "name": "stdout",
          "text": [
            "2022-05-01 01:01:24.267 INFO    numexpr.utils: NumExpr defaulting to 2 threads.\n",
            "\u001b[0m\n",
            "\u001b[34m\u001b[1m  You can now view your Streamlit app in your browser.\u001b[0m\n",
            "\u001b[0m\n",
            "\u001b[34m  Network URL: \u001b[0m\u001b[1mhttp://172.28.0.2:8501\u001b[0m\n",
            "\u001b[34m  External URL: \u001b[0m\u001b[1mhttp://35.247.63.123:8501\u001b[0m\n",
            "\u001b[0m\n",
            "\u001b[K\u001b[?25hnpx: installed 22 in 4.495s\n",
            "your url is: https://metal-emus-create-35-247-63-123.loca.lt\n",
            "\u001b[34m  Stopping...\u001b[0m\n",
            "^C\n"
          ]
        }
      ],
      "source": [
        "!streamlit run app.py & npx localtunnel --port 8501"
      ]
    }
  ],
  "metadata": {
    "colab": {
      "collapsed_sections": [],
      "name": "Checkpoint_Cyber_30/04",
      "provenance": [],
      "authorship_tag": "ABX9TyNauyMU0VMB07eU7euIuEw8",
      "include_colab_link": true
    },
    "kernelspec": {
      "display_name": "Python 3",
      "name": "python3"
    },
    "language_info": {
      "name": "python"
    }
  },
  "nbformat": 4,
  "nbformat_minor": 0
}