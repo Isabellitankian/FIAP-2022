{
  "nbformat": 4,
  "nbformat_minor": 0,
  "metadata": {
    "colab": {
      "name": "Aula 1 - identificação de preconceito",
      "provenance": [],
      "collapsed_sections": [],
      "authorship_tag": "ABX9TyMF28J+r5hDEAMkAIAiFCc1",
      "include_colab_link": true
    },
    "kernelspec": {
      "name": "python3",
      "display_name": "Python 3"
    },
    "language_info": {
      "name": "python"
    }
  },
  "cells": [
    {
      "cell_type": "markdown",
      "metadata": {
        "id": "view-in-github",
        "colab_type": "text"
      },
      "source": [
        "<a href=\"https://colab.research.google.com/github/Isabellitankian/FIAP-2022/blob/main/Aula_1_identifica%C3%A7%C3%A3o_de_preconceito.ipynb\" target=\"_parent\"><img src=\"https://colab.research.google.com/assets/colab-badge.svg\" alt=\"Open In Colab\"/></a>"
      ]
    },
    {
      "cell_type": "code",
      "source": [
        "import re"
      ],
      "metadata": {
        "id": "6C4uqUKnyazj"
      },
      "execution_count": null,
      "outputs": []
    },
    {
      "cell_type": "markdown",
      "source": [
        "Identificação de **xenofobia**"
      ],
      "metadata": {
        "id": "Q8pGysBJyRWW"
      }
    },
    {
      "cell_type": "code",
      "execution_count": null,
      "metadata": {
        "id": "oftOCzZhwVB4"
      },
      "outputs": [],
      "source": [
        "# preto, neguinho, pr3to, mac4co, burro, f3dor, c$c$, baiano, japones abre o olho, cabeçudo"
      ]
    },
    {
      "cell_type": "code",
      "source": [
        "lista = ['arma', 'negunho', 'pr3to', 'mac4co', 'burro', 'f3dor','c$c$', 'baiano', 'japones abre o olho', 'cabeçudo']\n",
        "\n",
        "texto = input()  #recebe a msg do usuário \n",
        "if(texto in lista):  #busca na minha lista #se\n",
        "   print('Sinta vergonha! Você é xenofobico!')  #se encontra na minha lista ele aparece isso \n",
        "else:      #senão \n",
        "   print('Parabéns você fez o básico!')   #senão encontra na minha lista aparece isso "
      ],
      "metadata": {
        "colab": {
          "base_uri": "https://localhost:8080/"
        },
        "id": "J4toCcRJyEnC",
        "outputId": "b54fe042-a1c6-4723-e08d-1663b0fece7d"
      },
      "execution_count": null,
      "outputs": [
        {
          "output_type": "stream",
          "name": "stdout",
          "text": [
            "burro\n",
            "Sinta vergonha! Você é xenofobico!\n"
          ]
        }
      ]
    },
    {
      "cell_type": "code",
      "source": [
        "def getMatchRegex(field):\n",
        "  match = re.search('(preto)|(neguinho)|(pr3to)|(mac4co)|(macaco)|(burro)|(baiano)|(abre o olho)|(c$c$)|(f3dor)', field.lower())\n",
        "  if match:\n",
        "    print('Você é um criminoso')\n",
        "  else: \n",
        "    print('Você é humano')\n",
        "getMatchRegex(input())\n",
        "\n",
        "\n"
      ],
      "metadata": {
        "id": "hGqgpYqHyEda"
      },
      "execution_count": null,
      "outputs": []
    },
    {
      "cell_type": "code",
      "source": [
        ""
      ],
      "metadata": {
        "id": "FJWHpbEayEMb"
      },
      "execution_count": null,
      "outputs": []
    },
    {
      "cell_type": "code",
      "source": [
        ""
      ],
      "metadata": {
        "id": "qNZkd05pKexO"
      },
      "execution_count": null,
      "outputs": []
    }
  ]
}